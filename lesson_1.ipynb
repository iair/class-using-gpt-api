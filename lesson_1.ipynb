{
 "cells": [
  {
   "cell_type": "markdown",
   "metadata": {},
   "source": [
    "# Class"
   ]
  },
  {
   "cell_type": "markdown",
   "metadata": {},
   "source": [
    "### How to setup your local environment\n",
    "\n",
    "#### Install the libraries needed\n",
    "\n",
    "To install the OpenAI Python library and the rest of the dependencies needed execute this on the console:\n",
    "```\n",
    "conda install -r requirements.txt\n",
    "```\n",
    "\n",
    "#### Setup your OpenAI API key\n",
    "\n",
    "##### First option: Setup your OpenAI API key as environment variable\n",
    "\n",
    "The steps to do this are different depending on your operating system but the first step is the same to get your API key from the OpenAI dashboard:\n",
    "\n",
    "1. You need to be logged in to your OpenAI account and then go to https://platform.openai.com/and create a new project\n",
    "2. Click on your project and then on \"API keys\"\n",
    "3. Click on \"Create API key\"\n",
    "4. Copy the API key\n",
    "\n",
    "* Now you can set the `OPENAI_API_KEY` environment variable to your API key and depending on your operating system you can do this by running the following command in the console:\n",
    "\n",
    "**On Mac**\n",
    "\n",
    "```\n",
    "export OPENAI_API_KEY='sk-proj-...your key here...'\n",
    "```\n",
    "\n",
    "**On Windows**\n",
    "```\n",
    "$env:OPENAI_API_KEY='sk-proj-...your key here...'\n",
    "```\n",
    "\n",
    "##### Second option: Setup your OpenAI API key in a .yaml file (i used this one)\n",
    "\n",
    "The steps to do this are:\n",
    "\n",
    "1. Create a new file named `config.yaml` in the root of your project\n",
    "2. Add the following content to the file:\n",
    "```\n",
    "api_credentials:\n",
    "  openai:\n",
    "    api_key: \"API_KEY_HERE\"\n",
    "    organization: \"your organization id\"\n",
    "```"
   ]
  },
  {
   "cell_type": "markdown",
   "metadata": {},
   "source": [
    "### Lesson 1: LLMs , the chat format and tokens"
   ]
  },
  {
   "cell_type": "code",
   "execution_count": 1,
   "metadata": {},
   "outputs": [],
   "source": [
    "import os\n",
    "import yaml\n",
    "from utils import get_completion_and_token_count,get_openai_client,check_moderation\n",
    "# Load the API key from config.yaml\n",
    "with open('config.yaml', 'r') as config_file:\n",
    "    config = yaml.safe_load(config_file)\n",
    "api_key = config['api_credentials']['openai']['api_key']\n",
    "# Create the OpenAI client with the API key\n",
    "client = get_openai_client(api_key=api_key)"
   ]
  },
  {
   "cell_type": "code",
   "execution_count": 2,
   "metadata": {},
   "outputs": [
    {
     "name": "stdout",
     "output_type": "stream",
     "text": [
      "In a garden so bright, under sun’s golden light, lived a carrot named Charlie, who danced with delight!\n"
     ]
    },
    {
     "data": {
      "text/plain": [
       "{'prompt_tokens': 42, 'completion_tokens': 23, 'total_tokens': 65}"
      ]
     },
     "execution_count": 2,
     "metadata": {},
     "output_type": "execute_result"
    }
   ],
   "source": [
    "prompt =  [  \n",
    "{'role':'system',\n",
    " 'content':\"You are an assistant who \\\n",
    "responds in the style of Dr Seuss. \\\n",
    "All your responses must be one sentence long.\"},    \n",
    "{'role':'user',\n",
    " 'content':\"write me a story about a happy carrot\"},\n",
    "] \n",
    "content, token_dict= get_completion_and_token_count(client,prompt,model=\"gpt-4o-mini\",temperature=0.7,max_tokens=100)\n",
    "print(content)\n",
    "token_dict"
   ]
  },
  {
   "cell_type": "markdown",
   "metadata": {},
   "source": [
    "### Lesson 2: Classification"
   ]
  },
  {
   "cell_type": "code",
   "execution_count": 3,
   "metadata": {},
   "outputs": [
    {
     "name": "stdout",
     "output_type": "stream",
     "text": [
      "{\n",
      "  \"primary\": \"Account Management\",\n",
      "  \"secondary\": \"Close account\"\n",
      "}\n"
     ]
    },
    {
     "data": {
      "text/plain": [
       "{'prompt_tokens': 163, 'completion_tokens': 18, 'total_tokens': 181}"
      ]
     },
     "execution_count": 3,
     "metadata": {},
     "output_type": "execute_result"
    }
   ],
   "source": [
    "delimiter = \"####\"\n",
    "system_message = f\"\"\"\n",
    "You will be provided with customer service queries. \\\n",
    "The customer service query will be delimited with \\\n",
    "{delimiter} characters.\n",
    "Classify each query into a primary category \\\n",
    "and a secondary category. \n",
    "Provide your output in json format with the \\\n",
    "keys: primary and secondary.\n",
    "\n",
    "Primary categories: Billing, Technical Support, \\\n",
    "Account Management, or General Inquiry.\n",
    "\n",
    "Billing secondary categories:\n",
    "Unsubscribe or upgrade\n",
    "Add a payment method\n",
    "Explanation for charge\n",
    "Dispute a charge\n",
    "\n",
    "Technical Support secondary categories:\n",
    "General troubleshooting\n",
    "Device compatibility\n",
    "Software updates\n",
    "\n",
    "Account Management secondary categories:\n",
    "Password reset\n",
    "Update personal information\n",
    "Close account\n",
    "Account security\n",
    "\n",
    "General Inquiry secondary categories:\n",
    "Product information\n",
    "Pricing\n",
    "Feedback\n",
    "Speak to a human\n",
    "\n",
    "\"\"\"\n",
    "user_message = f\"\"\"\\\n",
    "I want you to delete my profile and all of my user data\"\"\"\n",
    "messages =  [  \n",
    "{'role':'system', \n",
    " 'content': system_message},    \n",
    "{'role':'user', \n",
    " 'content': f\"{delimiter}{user_message}{delimiter}\"},  \n",
    "] \n",
    "content, token_dict=get_completion_and_token_count(client,messages,model=\"gpt-4o-mini\",temperature=0,max_tokens=200)\n",
    "print(content)\n",
    "token_dict"
   ]
  },
  {
   "cell_type": "markdown",
   "metadata": {},
   "source": [
    "### Lesson 3: Moderation"
   ]
  },
  {
   "cell_type": "markdown",
   "metadata": {},
   "source": [
    "To use the Moderation API with versions of the openai library that are >= 1.0.0, the usage of the API may change slightly from older versions, but the concept is similar.\n",
    "\n",
    "1. You need to have whisper-1 not blocked on the Model usage policy selected for the project you are using, otherwise it will throw an error.(in my case i blocked all the models except whisper-1 and gpt-4o-mini-2024-07-18)\n",
    "2. You need to use the `client.moderations.create` method instead of the `openai.moderations.create` method.\n",
    "3. select the \"text-moderation-stable\" model"
   ]
  },
  {
   "cell_type": "code",
   "execution_count": 5,
   "metadata": {},
   "outputs": [
    {
     "name": "stdout",
     "output_type": "stream",
     "text": [
      "whisper-1\n",
      "gpt-4o-mini-2024-07-18\n"
     ]
    }
   ],
   "source": [
    "models = client.models.list()\n",
    "# Iterate through the models and print their IDs\n",
    "for model in models.data:\n",
    "    print(model.id)"
   ]
  },
  {
   "cell_type": "code",
   "execution_count": 4,
   "metadata": {},
   "outputs": [
    {
     "name": "stdout",
     "output_type": "stream",
     "text": [
      "Moderation response: ModerationCreateResponse(id='modr-A8SWDlTzYpghBXCPNl7SKMz0uAe4O', model='text-moderation-007', results=[Moderation(categories=Categories(harassment=True, harassment_threatening=True, hate=False, hate_threatening=False, self_harm=False, self_harm_instructions=False, self_harm_intent=False, sexual=False, sexual_minors=False, violence=True, violence_graphic=False, self-harm=False, sexual/minors=False, hate/threatening=False, violence/graphic=False, self-harm/intent=False, self-harm/instructions=False, harassment/threatening=True), category_scores=CategoryScores(harassment=0.7041232585906982, harassment_threatening=0.6778415441513062, hate=0.002266854979097843, hate_threatening=0.0002044593566097319, self_harm=2.0691999452537857e-05, self_harm_instructions=3.1496071528636094e-07, self_harm_intent=5.250821413937956e-05, sexual=5.0045597163261846e-05, sexual_minors=9.526918631763692e-08, violence=0.9961150884628296, violence_graphic=1.00255711004138e-05, self-harm=2.0691999452537857e-05, sexual/minors=9.526918631763692e-08, hate/threatening=0.0002044593566097319, violence/graphic=1.00255711004138e-05, self-harm/intent=5.250821413937956e-05, self-harm/instructions=3.1496071528636094e-07, harassment/threatening=0.6778415441513062), flagged=True)])\n",
      "The input was flagged for violating moderation guidelines.\n"
     ]
    }
   ],
   "source": [
    "prompt = \"I want to kill you\"\n",
    "check_moderation(client,prompt,model=\"text-moderation-stable\")\n"
   ]
  }
 ],
 "metadata": {
  "kernelspec": {
   "display_name": "open_ai_env",
   "language": "python",
   "name": "python3"
  },
  "language_info": {
   "codemirror_mode": {
    "name": "ipython",
    "version": 3
   },
   "file_extension": ".py",
   "mimetype": "text/x-python",
   "name": "python",
   "nbconvert_exporter": "python",
   "pygments_lexer": "ipython3",
   "version": "3.12.6"
  }
 },
 "nbformat": 4,
 "nbformat_minor": 2
}
